{
 "cells": [
  {
   "cell_type": "code",
   "execution_count": 1,
   "id": "2256d669",
   "metadata": {},
   "outputs": [],
   "source": [
    "import pandas as pd\n",
    "import numpy as np\n",
    "from datetime import datetime"
   ]
  },
  {
   "cell_type": "code",
   "execution_count": 2,
   "id": "ce9f1c5b",
   "metadata": {},
   "outputs": [],
   "source": [
    "data ={'date':['2018-01-01','2018-02-01',\n",
    "'2018-03-01', '2018-04-01',\n",
    "'2018-05-01', '2018-06-01',\n",
    "'2018-01-01', '2018-02-01',\n",
    "'2018-03-01', '2018-04-01',\n",
    "'2018-05-01', '2018-06-01'],\n",
    "'visitors': [35,30,82,26,\n",
    "83, 46,40,57,95,57,87,42]}"
   ]
  },
  {
   "cell_type": "code",
   "execution_count": 3,
   "id": "ff7962f7",
   "metadata": {},
   "outputs": [],
   "source": [
    "df =pd.DataFrame(data,\n",
    "columns=['date', 'visitors'])"
   ]
  },
  {
   "cell_type": "code",
   "execution_count": 4,
   "id": "0fa9b2e8",
   "metadata": {},
   "outputs": [
    {
     "data": {
      "text/html": [
       "<div>\n",
       "<style scoped>\n",
       "    .dataframe tbody tr th:only-of-type {\n",
       "        vertical-align: middle;\n",
       "    }\n",
       "\n",
       "    .dataframe tbody tr th {\n",
       "        vertical-align: top;\n",
       "    }\n",
       "\n",
       "    .dataframe thead th {\n",
       "        text-align: right;\n",
       "    }\n",
       "</style>\n",
       "<table border=\"1\" class=\"dataframe\">\n",
       "  <thead>\n",
       "    <tr style=\"text-align: right;\">\n",
       "      <th></th>\n",
       "      <th>date</th>\n",
       "      <th>visitors</th>\n",
       "    </tr>\n",
       "  </thead>\n",
       "  <tbody>\n",
       "    <tr>\n",
       "      <th>0</th>\n",
       "      <td>2018-01-01</td>\n",
       "      <td>35</td>\n",
       "    </tr>\n",
       "    <tr>\n",
       "      <th>1</th>\n",
       "      <td>2018-02-01</td>\n",
       "      <td>30</td>\n",
       "    </tr>\n",
       "    <tr>\n",
       "      <th>2</th>\n",
       "      <td>2018-03-01</td>\n",
       "      <td>82</td>\n",
       "    </tr>\n",
       "    <tr>\n",
       "      <th>3</th>\n",
       "      <td>2018-04-01</td>\n",
       "      <td>26</td>\n",
       "    </tr>\n",
       "    <tr>\n",
       "      <th>4</th>\n",
       "      <td>2018-05-01</td>\n",
       "      <td>83</td>\n",
       "    </tr>\n",
       "  </tbody>\n",
       "</table>\n",
       "</div>"
      ],
      "text/plain": [
       "         date  visitors\n",
       "0  2018-01-01        35\n",
       "1  2018-02-01        30\n",
       "2  2018-03-01        82\n",
       "3  2018-04-01        26\n",
       "4  2018-05-01        83"
      ]
     },
     "execution_count": 4,
     "metadata": {},
     "output_type": "execute_result"
    }
   ],
   "source": [
    "df.head()"
   ]
  },
  {
   "cell_type": "code",
   "execution_count": 5,
   "id": "02a1b8f4",
   "metadata": {},
   "outputs": [
    {
     "data": {
      "text/plain": [
       "date        object\n",
       "visitors     int64\n",
       "dtype: object"
      ]
     },
     "execution_count": 5,
     "metadata": {},
     "output_type": "execute_result"
    }
   ],
   "source": [
    "df.dtypes"
   ]
  },
  {
   "cell_type": "code",
   "execution_count": 6,
   "id": "2e388364",
   "metadata": {},
   "outputs": [],
   "source": [
    "df.set_index('date', inplace=True)\n",
    "df.sort_index(inplace=True)\n"
   ]
  },
  {
   "cell_type": "code",
   "execution_count": 7,
   "id": "78ff1f04",
   "metadata": {},
   "outputs": [
    {
     "data": {
      "text/html": [
       "<div>\n",
       "<style scoped>\n",
       "    .dataframe tbody tr th:only-of-type {\n",
       "        vertical-align: middle;\n",
       "    }\n",
       "\n",
       "    .dataframe tbody tr th {\n",
       "        vertical-align: top;\n",
       "    }\n",
       "\n",
       "    .dataframe thead th {\n",
       "        text-align: right;\n",
       "    }\n",
       "</style>\n",
       "<table border=\"1\" class=\"dataframe\">\n",
       "  <thead>\n",
       "    <tr style=\"text-align: right;\">\n",
       "      <th></th>\n",
       "      <th>visitors</th>\n",
       "    </tr>\n",
       "    <tr>\n",
       "      <th>date</th>\n",
       "      <th></th>\n",
       "    </tr>\n",
       "  </thead>\n",
       "  <tbody>\n",
       "    <tr>\n",
       "      <th>2018-01-01</th>\n",
       "      <td>35</td>\n",
       "    </tr>\n",
       "    <tr>\n",
       "      <th>2018-01-01</th>\n",
       "      <td>40</td>\n",
       "    </tr>\n",
       "    <tr>\n",
       "      <th>2018-02-01</th>\n",
       "      <td>30</td>\n",
       "    </tr>\n",
       "    <tr>\n",
       "      <th>2018-02-01</th>\n",
       "      <td>57</td>\n",
       "    </tr>\n",
       "    <tr>\n",
       "      <th>2018-03-01</th>\n",
       "      <td>82</td>\n",
       "    </tr>\n",
       "  </tbody>\n",
       "</table>\n",
       "</div>"
      ],
      "text/plain": [
       "            visitors\n",
       "date                \n",
       "2018-01-01        35\n",
       "2018-01-01        40\n",
       "2018-02-01        30\n",
       "2018-02-01        57\n",
       "2018-03-01        82"
      ]
     },
     "execution_count": 7,
     "metadata": {},
     "output_type": "execute_result"
    }
   ],
   "source": [
    "df.head()"
   ]
  },
  {
   "cell_type": "code",
   "execution_count": 8,
   "id": "b0c4cf88",
   "metadata": {},
   "outputs": [
    {
     "data": {
      "text/html": [
       "<div>\n",
       "<style scoped>\n",
       "    .dataframe tbody tr th:only-of-type {\n",
       "        vertical-align: middle;\n",
       "    }\n",
       "\n",
       "    .dataframe tbody tr th {\n",
       "        vertical-align: top;\n",
       "    }\n",
       "\n",
       "    .dataframe thead th {\n",
       "        text-align: right;\n",
       "    }\n",
       "</style>\n",
       "<table border=\"1\" class=\"dataframe\">\n",
       "  <thead>\n",
       "    <tr style=\"text-align: right;\">\n",
       "      <th></th>\n",
       "      <th>visitors</th>\n",
       "    </tr>\n",
       "    <tr>\n",
       "      <th>date</th>\n",
       "      <th></th>\n",
       "    </tr>\n",
       "  </thead>\n",
       "  <tbody>\n",
       "    <tr>\n",
       "      <th>2018-01-01</th>\n",
       "      <td>2</td>\n",
       "    </tr>\n",
       "    <tr>\n",
       "      <th>2018-02-01</th>\n",
       "      <td>2</td>\n",
       "    </tr>\n",
       "    <tr>\n",
       "      <th>2018-03-01</th>\n",
       "      <td>2</td>\n",
       "    </tr>\n",
       "    <tr>\n",
       "      <th>2018-04-01</th>\n",
       "      <td>2</td>\n",
       "    </tr>\n",
       "    <tr>\n",
       "      <th>2018-05-01</th>\n",
       "      <td>2</td>\n",
       "    </tr>\n",
       "    <tr>\n",
       "      <th>2018-06-01</th>\n",
       "      <td>2</td>\n",
       "    </tr>\n",
       "  </tbody>\n",
       "</table>\n",
       "</div>"
      ],
      "text/plain": [
       "            visitors\n",
       "date                \n",
       "2018-01-01         2\n",
       "2018-02-01         2\n",
       "2018-03-01         2\n",
       "2018-04-01         2\n",
       "2018-05-01         2\n",
       "2018-06-01         2"
      ]
     },
     "execution_count": 8,
     "metadata": {},
     "output_type": "execute_result"
    }
   ],
   "source": [
    "df.groupby('date').count()"
   ]
  },
  {
   "cell_type": "code",
   "execution_count": 9,
   "id": "571bd333",
   "metadata": {},
   "outputs": [
    {
     "data": {
      "text/html": [
       "<div>\n",
       "<style scoped>\n",
       "    .dataframe tbody tr th:only-of-type {\n",
       "        vertical-align: middle;\n",
       "    }\n",
       "\n",
       "    .dataframe tbody tr th {\n",
       "        vertical-align: top;\n",
       "    }\n",
       "\n",
       "    .dataframe thead th {\n",
       "        text-align: right;\n",
       "    }\n",
       "</style>\n",
       "<table border=\"1\" class=\"dataframe\">\n",
       "  <thead>\n",
       "    <tr style=\"text-align: right;\">\n",
       "      <th></th>\n",
       "      <th>visitors</th>\n",
       "    </tr>\n",
       "    <tr>\n",
       "      <th>date</th>\n",
       "      <th></th>\n",
       "    </tr>\n",
       "  </thead>\n",
       "  <tbody>\n",
       "    <tr>\n",
       "      <th>2018-01-01</th>\n",
       "      <td>35</td>\n",
       "    </tr>\n",
       "    <tr>\n",
       "      <th>2018-01-01</th>\n",
       "      <td>40</td>\n",
       "    </tr>\n",
       "    <tr>\n",
       "      <th>2018-02-01</th>\n",
       "      <td>30</td>\n",
       "    </tr>\n",
       "    <tr>\n",
       "      <th>2018-02-01</th>\n",
       "      <td>57</td>\n",
       "    </tr>\n",
       "    <tr>\n",
       "      <th>2018-03-01</th>\n",
       "      <td>82</td>\n",
       "    </tr>\n",
       "    <tr>\n",
       "      <th>2018-03-01</th>\n",
       "      <td>95</td>\n",
       "    </tr>\n",
       "  </tbody>\n",
       "</table>\n",
       "</div>"
      ],
      "text/plain": [
       "            visitors\n",
       "date                \n",
       "2018-01-01        35\n",
       "2018-01-01        40\n",
       "2018-02-01        30\n",
       "2018-02-01        57\n",
       "2018-03-01        82\n",
       "2018-03-01        95"
      ]
     },
     "execution_count": 9,
     "metadata": {},
     "output_type": "execute_result"
    }
   ],
   "source": [
    "df.truncate(after='2018-03-01')"
   ]
  },
  {
   "cell_type": "code",
   "execution_count": 10,
   "id": "cd8ae051",
   "metadata": {},
   "outputs": [
    {
     "data": {
      "text/html": [
       "<div>\n",
       "<style scoped>\n",
       "    .dataframe tbody tr th:only-of-type {\n",
       "        vertical-align: middle;\n",
       "    }\n",
       "\n",
       "    .dataframe tbody tr th {\n",
       "        vertical-align: top;\n",
       "    }\n",
       "\n",
       "    .dataframe thead tr th {\n",
       "        text-align: left;\n",
       "    }\n",
       "\n",
       "    .dataframe thead tr:last-of-type th {\n",
       "        text-align: right;\n",
       "    }\n",
       "</style>\n",
       "<table border=\"1\" class=\"dataframe\">\n",
       "  <thead>\n",
       "    <tr>\n",
       "      <th></th>\n",
       "      <th colspan=\"8\" halign=\"left\">visitors</th>\n",
       "    </tr>\n",
       "    <tr>\n",
       "      <th></th>\n",
       "      <th>count</th>\n",
       "      <th>mean</th>\n",
       "      <th>std</th>\n",
       "      <th>min</th>\n",
       "      <th>25%</th>\n",
       "      <th>50%</th>\n",
       "      <th>75%</th>\n",
       "      <th>max</th>\n",
       "    </tr>\n",
       "    <tr>\n",
       "      <th>date</th>\n",
       "      <th></th>\n",
       "      <th></th>\n",
       "      <th></th>\n",
       "      <th></th>\n",
       "      <th></th>\n",
       "      <th></th>\n",
       "      <th></th>\n",
       "      <th></th>\n",
       "    </tr>\n",
       "  </thead>\n",
       "  <tbody>\n",
       "    <tr>\n",
       "      <th>2018-01-01</th>\n",
       "      <td>2.0</td>\n",
       "      <td>37.5</td>\n",
       "      <td>3.535534</td>\n",
       "      <td>35.0</td>\n",
       "      <td>36.25</td>\n",
       "      <td>37.5</td>\n",
       "      <td>38.75</td>\n",
       "      <td>40.0</td>\n",
       "    </tr>\n",
       "    <tr>\n",
       "      <th>2018-02-01</th>\n",
       "      <td>2.0</td>\n",
       "      <td>43.5</td>\n",
       "      <td>19.091883</td>\n",
       "      <td>30.0</td>\n",
       "      <td>36.75</td>\n",
       "      <td>43.5</td>\n",
       "      <td>50.25</td>\n",
       "      <td>57.0</td>\n",
       "    </tr>\n",
       "    <tr>\n",
       "      <th>2018-03-01</th>\n",
       "      <td>2.0</td>\n",
       "      <td>88.5</td>\n",
       "      <td>9.192388</td>\n",
       "      <td>82.0</td>\n",
       "      <td>85.25</td>\n",
       "      <td>88.5</td>\n",
       "      <td>91.75</td>\n",
       "      <td>95.0</td>\n",
       "    </tr>\n",
       "    <tr>\n",
       "      <th>2018-04-01</th>\n",
       "      <td>2.0</td>\n",
       "      <td>41.5</td>\n",
       "      <td>21.920310</td>\n",
       "      <td>26.0</td>\n",
       "      <td>33.75</td>\n",
       "      <td>41.5</td>\n",
       "      <td>49.25</td>\n",
       "      <td>57.0</td>\n",
       "    </tr>\n",
       "    <tr>\n",
       "      <th>2018-05-01</th>\n",
       "      <td>2.0</td>\n",
       "      <td>85.0</td>\n",
       "      <td>2.828427</td>\n",
       "      <td>83.0</td>\n",
       "      <td>84.00</td>\n",
       "      <td>85.0</td>\n",
       "      <td>86.00</td>\n",
       "      <td>87.0</td>\n",
       "    </tr>\n",
       "    <tr>\n",
       "      <th>2018-06-01</th>\n",
       "      <td>2.0</td>\n",
       "      <td>44.0</td>\n",
       "      <td>2.828427</td>\n",
       "      <td>42.0</td>\n",
       "      <td>43.00</td>\n",
       "      <td>44.0</td>\n",
       "      <td>45.00</td>\n",
       "      <td>46.0</td>\n",
       "    </tr>\n",
       "  </tbody>\n",
       "</table>\n",
       "</div>"
      ],
      "text/plain": [
       "           visitors                                                 \n",
       "              count  mean        std   min    25%   50%    75%   max\n",
       "date                                                                \n",
       "2018-01-01      2.0  37.5   3.535534  35.0  36.25  37.5  38.75  40.0\n",
       "2018-02-01      2.0  43.5  19.091883  30.0  36.75  43.5  50.25  57.0\n",
       "2018-03-01      2.0  88.5   9.192388  82.0  85.25  88.5  91.75  95.0\n",
       "2018-04-01      2.0  41.5  21.920310  26.0  33.75  41.5  49.25  57.0\n",
       "2018-05-01      2.0  85.0   2.828427  83.0  84.00  85.0  86.00  87.0\n",
       "2018-06-01      2.0  44.0   2.828427  42.0  43.00  44.0  45.00  46.0"
      ]
     },
     "execution_count": 10,
     "metadata": {},
     "output_type": "execute_result"
    }
   ],
   "source": [
    "df.groupby('date').describe()"
   ]
  },
  {
   "cell_type": "code",
   "execution_count": 11,
   "id": "d1059fc2",
   "metadata": {},
   "outputs": [
    {
     "data": {
      "text/plain": [
       "DatetimeIndex(['2018-05-30', '2018-05-31', '2018-06-01', '2018-06-02'], dtype='datetime64[ns]', freq='D')"
      ]
     },
     "execution_count": 11,
     "metadata": {},
     "output_type": "execute_result"
    }
   ],
   "source": [
    "pd.date_range('2018-05-30', '2018-06-02')"
   ]
  },
  {
   "cell_type": "code",
   "execution_count": 12,
   "id": "7552d766",
   "metadata": {},
   "outputs": [
    {
     "data": {
      "text/plain": [
       "DatetimeIndex(['2018-05-30', '2018-05-31', '2018-06-01', '2018-06-02'], dtype='datetime64[ns]', freq='D')"
      ]
     },
     "execution_count": 12,
     "metadata": {},
     "output_type": "execute_result"
    }
   ],
   "source": [
    "pd.date_range('2018-05-30', periods=4)"
   ]
  },
  {
   "cell_type": "code",
   "execution_count": 13,
   "id": "07bb1ac6",
   "metadata": {},
   "outputs": [
    {
     "data": {
      "text/plain": [
       "DatetimeIndex(['2018-05-31', '2018-06-30', '2018-07-31', '2018-08-31'], dtype='datetime64[ns]', freq='M')"
      ]
     },
     "execution_count": 13,
     "metadata": {},
     "output_type": "execute_result"
    }
   ],
   "source": [
    "pd.date_range('2018-05-30', periods=4,freq='M')"
   ]
  },
  {
   "cell_type": "code",
   "execution_count": 14,
   "id": "53f50c54",
   "metadata": {},
   "outputs": [],
   "source": [
    "from numpy.random import randn\n",
    "idx =pd.date_range('2018-06-04 00:00:00',\n",
    "periods=4)\n",
    "cols = ['A','B','C','D']"
   ]
  },
  {
   "cell_type": "code",
   "execution_count": 15,
   "id": "66bc9625",
   "metadata": {},
   "outputs": [],
   "source": [
    "data =randn(len(idx),len(cols))"
   ]
  },
  {
   "cell_type": "code",
   "execution_count": 16,
   "id": "f50b62e8",
   "metadata": {},
   "outputs": [],
   "source": [
    "df =pd.DataFrame(data=data, index=idx, columns=cols)\n",
    "df.index.name='date'"
   ]
  },
  {
   "cell_type": "code",
   "execution_count": 17,
   "id": "363766a2",
   "metadata": {},
   "outputs": [
    {
     "name": "stdout",
     "output_type": "stream",
     "text": [
      "                   A         B         C         D\n",
      "date                                              \n",
      "2018-06-04 -0.395226 -1.096906 -0.428311  1.539486\n",
      "2018-06-05  0.194722  0.127821  0.131383  1.997384\n",
      "2018-06-06  0.372136  1.236560  0.812020  1.707825\n",
      "2018-06-07  0.910912 -0.340193  0.852434  0.435796\n"
     ]
    }
   ],
   "source": [
    "print(df)"
   ]
  },
  {
   "cell_type": "code",
   "execution_count": 18,
   "id": "10d3baf3",
   "metadata": {},
   "outputs": [],
   "source": [
    "df.reset_index(inplace=True)"
   ]
  },
  {
   "cell_type": "code",
   "execution_count": 19,
   "id": "e765eb1e",
   "metadata": {},
   "outputs": [],
   "source": [
    "melted=pd.melt(df,id_vars='date',\n",
    "var_name='feature',\n",
    "value_name='reading')"
   ]
  },
  {
   "cell_type": "code",
   "execution_count": 20,
   "id": "cf609205",
   "metadata": {},
   "outputs": [
    {
     "name": "stdout",
     "output_type": "stream",
     "text": [
      "         date feature   reading\n",
      "0  2018-06-04       A -0.395226\n",
      "1  2018-06-05       A  0.194722\n",
      "2  2018-06-06       A  0.372136\n",
      "3  2018-06-07       A  0.910912\n",
      "4  2018-06-04       B -1.096906\n",
      "5  2018-06-05       B  0.127821\n",
      "6  2018-06-06       B  1.236560\n",
      "7  2018-06-07       B -0.340193\n",
      "8  2018-06-04       C -0.428311\n",
      "9  2018-06-05       C  0.131383\n",
      "10 2018-06-06       C  0.812020\n",
      "11 2018-06-07       C  0.852434\n",
      "12 2018-06-04       D  1.539486\n",
      "13 2018-06-05       D  1.997384\n",
      "14 2018-06-06       D  1.707825\n",
      "15 2018-06-07       D  0.435796\n"
     ]
    }
   ],
   "source": [
    "print(melted)"
   ]
  },
  {
   "cell_type": "code",
   "execution_count": 21,
   "id": "d8e1cb5d",
   "metadata": {},
   "outputs": [],
   "source": [
    "melted.set_index('date', inplace=True)\n",
    "melted.sort_index(inplace=True)"
   ]
  },
  {
   "cell_type": "code",
   "execution_count": 22,
   "id": "a4a7ded4",
   "metadata": {},
   "outputs": [
    {
     "name": "stdout",
     "output_type": "stream",
     "text": [
      "           feature   reading\n",
      "date                        \n",
      "2018-06-04       A -0.395226\n",
      "2018-06-04       B -1.096906\n",
      "2018-06-04       C -0.428311\n",
      "2018-06-04       D  1.539486\n",
      "2018-06-05       A  0.194722\n",
      "2018-06-05       B  0.127821\n",
      "2018-06-05       C  0.131383\n",
      "2018-06-05       D  1.997384\n",
      "2018-06-06       A  0.372136\n",
      "2018-06-06       B  1.236560\n",
      "2018-06-06       C  0.812020\n",
      "2018-06-06       D  1.707825\n",
      "2018-06-07       A  0.910912\n",
      "2018-06-07       B -0.340193\n",
      "2018-06-07       C  0.852434\n",
      "2018-06-07       D  0.435796\n"
     ]
    }
   ],
   "source": [
    "print(melted)"
   ]
  },
  {
   "cell_type": "code",
   "execution_count": null,
   "id": "65f3dde9",
   "metadata": {},
   "outputs": [],
   "source": []
  }
 ],
 "metadata": {
  "kernelspec": {
   "display_name": "Python 3 (ipykernel)",
   "language": "python",
   "name": "python3"
  },
  "language_info": {
   "codemirror_mode": {
    "name": "ipython",
    "version": 3
   },
   "file_extension": ".py",
   "mimetype": "text/x-python",
   "name": "python",
   "nbconvert_exporter": "python",
   "pygments_lexer": "ipython3",
   "version": "3.11.2"
  }
 },
 "nbformat": 4,
 "nbformat_minor": 5
}
